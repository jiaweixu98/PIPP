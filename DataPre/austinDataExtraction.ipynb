{
 "cells": [
  {
   "cell_type": "markdown",
   "metadata": {},
   "source": [
    "get austin twitter from 2TB covid-19 twitter dataset\n",
    "\n",
    "(do not run this code, unless you want to get the data of other cities)"
   ]
  },
  {
   "cell_type": "code",
   "execution_count": null,
   "metadata": {},
   "outputs": [],
   "source": [
    "! pip install jsonlines"
   ]
  },
  {
   "cell_type": "code",
   "execution_count": null,
   "metadata": {},
   "outputs": [],
   "source": [
    "from google.colab import drive\n",
    "drive.mount('/content/drive')\n",
    "covidDataPath = 'drive/MyDrive/COVID-19 Tweets Dataset/'\n",
    "month = '2021-07'\n",
    "austinCoordinates = [[[-97.928935, 30.127892],\n",
    "     [-97.5805133, 30.127892],\n",
    "     [-97.5805133, 30.5187994],\n",
    "     [-97.928935, 30.5187994]]]\n",
    "# left bound\n",
    "leftAustin = austinCoordinates[0][0][0]\n",
    "# right bound\n",
    "rightAustin = austinCoordinates[0][1][0]\n",
    "# upper bound\n",
    "upAustin = austinCoordinates[0][2][1]\n",
    "# lower bound\n",
    "downAustin = austinCoordinates[0][0][1]\n",
    "# read the data\n",
    "import os\n",
    "import gzip\n",
    "import json\n",
    "from tqdm import tqdm\n",
    "import jsonlines\n",
    "\n",
    "total_n_tweet = 0\n",
    "tweet_userlocation = 0\n",
    "tweet_placeFullName = 0\n",
    "tweet_boxPlace = 0\n",
    "tweet_pointPlace = 0\n",
    "\n",
    "writerUserLocation = jsonlines.Writer(open('drive/MyDrive/austinCovid/202104-/'+month+'austinUserLocation.jsonl', 'w'))\n",
    "writerTweetLocation = jsonlines.Writer(open('drive/MyDrive/austinCovid/202104-/'+month+'austinTweetLocation.jsonl', 'w'))\n",
    "for filename in tqdm(sorted(os.listdir(covidDataPath+month))):\n",
    "  if filename.endswith('.gz'):\n",
    "    try:\n",
    "      with gzip.open(covidDataPath+month+'/'+filename, mode=\"rt\") as f:\n",
    "        for line in f:\n",
    "          try:\n",
    "            tweet = json.loads(line)\n",
    "            total_n_tweet += 1\n",
    "            if 'austin' in  tweet['user']['location'].lower() and  'austintown' not in tweet['user']['location'].lower():\n",
    "              writerUserLocation.write(tweet)\n",
    "              tweet_userlocation += 1\n",
    "            if  tweet['place'] != None:\n",
    "              if 'austin' in tweet['place']['full_name'].lower() and 'austintown' not in tweet['place']['full_name'].lower():\n",
    "                writerTweetLocation.write(tweet)\n",
    "                tweet_placeFullName += 1\n",
    "                # area match\n",
    "              elif  tweet['place']['bounding_box']!=None and tweet['place']['bounding_box']['coordinates'][0][0][0] > leftAustin and   tweet['place']['bounding_box']['coordinates'][0][1][0] < rightAustin  and tweet['place']['bounding_box']['coordinates'][0][2][1] < upAustin and tweet['place']['bounding_box']['coordinates'][0][0][1] > downAustin:\n",
    "                writerTweetLocation.write(tweet)\n",
    "                tweet_boxPlace += 1\n",
    "              # point match\n",
    "              elif tweet['coordinates'] != None and (leftAustin <= tweet['coordinates']['coordinates'][0] <= rightAustin and downAustin <= tweet['coordinates']['coordinates'][1] <= upAustin):\n",
    "                writerTweetLocation.write(tweet)\n",
    "                tweet_pointPlace += 1\n",
    "          except Exception as e:\n",
    "            print(e)\n",
    "            print(filename)\n",
    "            print(line)\n",
    "            continue\n",
    "    except Exception as e:\n",
    "      print(e)\n",
    "      print(filename)\n",
    "      continue\n",
    "\n",
    "print('total_n_tweet',total_n_tweet)\n",
    "print('tweet_userlocation' ,tweet_userlocation)\n",
    "print('tweet_placeFullName',tweet_placeFullName)\n",
    "print('tweet_boxPlace', tweet_boxPlace)\n",
    "print('tweet_pointPlace' , tweet_pointPlace)"
   ]
  }
 ],
 "metadata": {
  "language_info": {
   "name": "python"
  },
  "orig_nbformat": 4
 },
 "nbformat": 4,
 "nbformat_minor": 2
}
