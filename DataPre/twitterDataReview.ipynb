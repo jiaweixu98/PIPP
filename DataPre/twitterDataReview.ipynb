{
 "cells": [
  {
   "cell_type": "markdown",
   "metadata": {},
   "source": [
    "Do not run this!\n",
    "\n",
    "some austin twitter data may not compressed correctly, this ipynb do some check and description."
   ]
  },
  {
   "cell_type": "code",
   "execution_count": 2,
   "metadata": {},
   "outputs": [],
   "source": [
    "\n",
    "import jsonlines\n",
    "import os\n",
    "from tqdm import tqdm\n",
    "twitterDataFile = '/data/jx4237data/DataForPIPP/austinCovid/'"
   ]
  },
  {
   "cell_type": "code",
   "execution_count": 3,
   "metadata": {},
   "outputs": [],
   "source": [
    "monthlist = [str(i) if i > 9 else '0'+str(i) for i in range(1,13)]\n",
    "rightList = [year+'-'+month+'austin'+placeType+'Location.jsonl' for placeType in ['Tweet','User'] for year in ['2020', '2021'] for month in monthlist]\n",
    "troubleset = set([i[:14] for i in list(set([i for i in os.listdir(twitterDataFile+'2020') + os.listdir(twitterDataFile+'2021')]) - set(rightList))])"
   ]
  },
  {
   "cell_type": "code",
   "execution_count": 100,
   "metadata": {},
   "outputs": [],
   "source": [
    "# id\n",
    "n = 2\n",
    "writerLocation = jsonlines.Writer(open('test.jsonl', 'w'))\n",
    "with jsonlines.open(twitterDataFile+'2020/2020-03austinTweetLocation665_1487 .jsonl') as reader:\n",
    "    for obj in reader:\n",
    "        writerLocation.write(obj)\n",
    "        n -= 1\n",
    "        if n == 0:\n",
    "            break\n",
    "writerLocation.close()"
   ]
  },
  {
   "cell_type": "code",
   "execution_count": 102,
   "metadata": {},
   "outputs": [
    {
     "name": "stderr",
     "output_type": "stream",
     "text": [
      " 62%|██████▎   | 10/16 [01:44<01:28, 14.77s/it]"
     ]
    },
    {
     "name": "stdout",
     "output_type": "stream",
     "text": [
      "line contains invalid json: Expecting value: line 1 column 1 (char 0) (line 50072)\n",
      "2021-07austinUserLocation.jsonl\n"
     ]
    },
    {
     "name": "stderr",
     "output_type": "stream",
     "text": [
      "100%|██████████| 16/16 [04:28<00:00, 16.80s/it]"
     ]
    },
    {
     "name": "stdout",
     "output_type": "stream",
     "text": [
      "line contains invalid json: Expecting value: line 1 column 1 (char 0) (line 706)\n",
      "2021-07austinTweetLocation.jsonl\n"
     ]
    },
    {
     "name": "stderr",
     "output_type": "stream",
     "text": [
      "\n"
     ]
    }
   ],
   "source": [
    "for troubleAbbr in tqdm(troubleset):\n",
    "    x = [i for i in os.listdir(twitterDataFile+'2020') + os.listdir(twitterDataFile+'2021') if troubleAbbr in i ]\n",
    "    idset = set()\n",
    "    if 'T' in  troubleAbbr:\n",
    "        combineName = twitterDataFile + x[0][:4] + '/'+x[0][:26]\n",
    "    else:\n",
    "        combineName = twitterDataFile + x[0][:4] + '/'+x[0][:25]\n",
    "    writerLocation = jsonlines.Writer(open(combineName, 'w'))\n",
    "    for paperName in x:\n",
    "        with jsonlines.open(twitterDataFile + x[0][:4] + '/'+paperName) as reader:\n",
    "            try:\n",
    "                for obj in reader:\n",
    "                    if obj[\"id_str\"] not in idset:\n",
    "                        idset.add(obj[\"id_str\"])\n",
    "                        writerLocation.write(obj)\n",
    "            except Exception as e:\n",
    "                print(e)\n",
    "                print(paperName)"
   ]
  },
  {
   "cell_type": "code",
   "execution_count": 4,
   "metadata": {},
   "outputs": [
    {
     "data": {
      "text/plain": [
       "{'2021-07austinT', '2021-07austinU'}"
      ]
     },
     "execution_count": 4,
     "metadata": {},
     "output_type": "execute_result"
    }
   ],
   "source": [
    "troubleset"
   ]
  },
  {
   "cell_type": "code",
   "execution_count": 5,
   "metadata": {},
   "outputs": [
    {
     "name": "stderr",
     "output_type": "stream",
     "text": [
      "100%|██████████| 2/2 [00:16<00:00,  8.11s/it]\n"
     ]
    }
   ],
   "source": [
    "for troubleAbbr in tqdm(troubleset):\n",
    "    x = [i for i in os.listdir(twitterDataFile+'2020') + os.listdir(twitterDataFile+'2021') if troubleAbbr in i ]\n",
    "    idset = set()\n",
    "    if 'T' in  troubleAbbr:\n",
    "        combineName = twitterDataFile + x[0][:4] + '/'+x[0][:26]\n",
    "    else:\n",
    "        combineName = twitterDataFile + x[0][:4] + '/'+x[0][:25]\n",
    "    writerLocation = jsonlines.Writer(open(combineName, 'w'))\n",
    "    for paperName in x:\n",
    "        with jsonlines.open(twitterDataFile + x[0][:4] + '/'+paperName) as reader:\n",
    "            try:\n",
    "                for obj in reader:\n",
    "                    if obj[\"id_str\"] not in idset:\n",
    "                        idset.add(obj[\"id_str\"])\n",
    "                        writerLocation.write(obj)\n",
    "            except Exception as e:\n",
    "                print(e)\n",
    "                print(paperName)"
   ]
  },
  {
   "cell_type": "code",
   "execution_count": 3,
   "metadata": {},
   "outputs": [
    {
     "name": "stderr",
     "output_type": "stream",
     "text": [
      "50078it [00:07, 6592.64it/s]"
     ]
    }
   ],
   "source": [
    "import json\n",
    "with open(\"/data/jx4237data/DataForPIPP/austinCovid/2021/2021-07austinUserLocationNotrouble.jsonl\", 'w') as fw:\n",
    "    with open(\"/data/jx4237data/DataForPIPP/austinCovid/2021/2021-07austinUserLocation.jsonl\", 'r', encoding='utf-8') as fr:\n",
    "        for line in tqdm(fr):\n",
    "            try:\n",
    "                item = json.loads(line)\n",
    "                fw.write(json.dumps(item) + \"\\n\")\n",
    "            except:\n",
    "                print(line)"
   ]
  },
  {
   "cell_type": "markdown",
   "metadata": {},
   "source": [
    "# Try to add some gzips that have problems with decompression"
   ]
  },
  {
   "cell_type": "code",
   "execution_count": 6,
   "metadata": {},
   "outputs": [
    {
     "name": "stdout",
     "output_type": "stream",
     "text": [
      "53124\n"
     ]
    }
   ],
   "source": [
    "idset = set()\n",
    "with jsonlines.open('/data/jx4237data/DataForPIPP/austinCovid/2020/2020-03austinUserLocation.jsonl') as reader:\n",
    "    for obj in reader:\n",
    "        if obj[\"id_str\"] not in idset:\n",
    "            idset.add(obj[\"id_str\"])\n",
    "print(len(idset))"
   ]
  },
  {
   "cell_type": "markdown",
   "metadata": {},
   "source": [
    "user"
   ]
  },
  {
   "cell_type": "code",
   "execution_count": 16,
   "metadata": {},
   "outputs": [],
   "source": [
    "iduserset = set()\n",
    "writerUserLocation = jsonlines.Writer(open('/data/jx4237data/DataForPIPP/austinCovid/2021/2021-07austinUserLocationE.jsonl', 'w'))\n",
    "with jsonlines.open('/data/jx4237data/DataForPIPP/austinCovid/2021/2021-07austinUserLocation.jsonl') as reader:\n",
    "    for obj in reader:\n",
    "        if obj[\"id_str\"] not in iduserset:\n",
    "            writerUserLocation.write(obj)\n",
    "\n",
    "with jsonlines.open('/data/jx4237data/DataForPIPP/austinCovid/20210707austinUserLocation.jsonl') as reader:\n",
    "    for obj in reader:\n",
    "        if obj[\"id_str\"] not in iduserset:\n",
    "            writerUserLocation.write(obj)\n",
    "writerUserLocation.close()"
   ]
  },
  {
   "cell_type": "markdown",
   "metadata": {},
   "source": [
    "tweet"
   ]
  },
  {
   "cell_type": "code",
   "execution_count": 17,
   "metadata": {},
   "outputs": [],
   "source": [
    "idtweetset = set()\n",
    "writerTweetLocation = jsonlines.Writer(open('/data/jx4237data/DataForPIPP/austinCovid/2021/2021-07austinTweetLocationE.jsonl', 'w'))\n",
    "with jsonlines.open('/data/jx4237data/DataForPIPP/austinCovid/2021/2021-07austinTweetLocation.jsonl') as reader:\n",
    "    for obj in reader:\n",
    "        if obj[\"id_str\"] not in idtweetset:\n",
    "            writerTweetLocation.write(obj)\n",
    "\n",
    "with jsonlines.open('/data/jx4237data/DataForPIPP/austinCovid/20210707austinTweetLocation.jsonl') as reader:\n",
    "    for obj in reader:\n",
    "        if obj[\"id_str\"] not in idtweetset:\n",
    "            writerTweetLocation.write(obj)\n",
    "writerTweetLocation.close()"
   ]
  },
  {
   "cell_type": "markdown",
   "metadata": {},
   "source": [
    "# data description"
   ]
  },
  {
   "cell_type": "code",
   "execution_count": 21,
   "metadata": {},
   "outputs": [
    {
     "name": "stdout",
     "output_type": "stream",
     "text": [
      "141635\n",
      "{'created_at': 'Wed Mar 31 23:59:36 +0000 2021', 'id': 1377410280150470657, 'id_str': '1377410280150470657', 'full_text': 'Happy &amp; grateful to get my covid 💉vax today. Amazing to see safe science work so fast. Not everyday your board member gets to jab you! Thx you @systems_family @AusPublicHealth @moderna_tx @POTUS @CDCgov Dr.Fauci, @ASlavitt ,scientists, mask wearers, volunteers etc. 🙏 Get yours! https://t.co/AkvDJrRWQ2', 'truncated': False, 'display_text_range': [0, 282], 'entities': {'hashtags': [], 'symbols': [], 'user_mentions': [{'screen_name': 'systems_family', 'name': 'Family Hospital Systems', 'id': 1364240426006315009, 'id_str': '1364240426006315009', 'indices': [147, 162]}, {'screen_name': 'AusPublicHealth', 'name': 'Austin Public Health', 'id': 870535057, 'id_str': '870535057', 'indices': [163, 179]}, {'screen_name': 'moderna_tx', 'name': 'Moderna', 'id': 2227355222, 'id_str': '2227355222', 'indices': [180, 191]}, {'screen_name': 'POTUS', 'name': 'President Biden', 'id': 1349149096909668363, 'id_str': '1349149096909668363', 'indices': [192, 198]}, {'screen_name': 'CDCgov', 'name': 'CDC', 'id': 146569971, 'id_str': '146569971', 'indices': [199, 206]}, {'screen_name': 'ASlavitt', 'name': 'Andy Slavitt 🇺🇸💉', 'id': 1383272101, 'id_str': '1383272101', 'indices': [217, 226]}], 'urls': [], 'media': [{'id': 1377410265055125508, 'id_str': '1377410265055125508', 'indices': [283, 306], 'media_url': 'http://pbs.twimg.com/media/Ex2LVpaWYAQ5-Q9.jpg', 'media_url_https': 'https://pbs.twimg.com/media/Ex2LVpaWYAQ5-Q9.jpg', 'url': 'https://t.co/AkvDJrRWQ2', 'display_url': 'pic.twitter.com/AkvDJrRWQ2', 'expanded_url': 'https://twitter.com/CapMetroCEO/status/1377410280150470657/photo/1', 'type': 'photo', 'sizes': {'small': {'w': 680, 'h': 510, 'resize': 'fit'}, 'thumb': {'w': 150, 'h': 150, 'resize': 'crop'}, 'medium': {'w': 1200, 'h': 900, 'resize': 'fit'}, 'large': {'w': 2048, 'h': 1536, 'resize': 'fit'}}}]}, 'extended_entities': {'media': [{'id': 1377410265055125508, 'id_str': '1377410265055125508', 'indices': [283, 306], 'media_url': 'http://pbs.twimg.com/media/Ex2LVpaWYAQ5-Q9.jpg', 'media_url_https': 'https://pbs.twimg.com/media/Ex2LVpaWYAQ5-Q9.jpg', 'url': 'https://t.co/AkvDJrRWQ2', 'display_url': 'pic.twitter.com/AkvDJrRWQ2', 'expanded_url': 'https://twitter.com/CapMetroCEO/status/1377410280150470657/photo/1', 'type': 'photo', 'sizes': {'small': {'w': 680, 'h': 510, 'resize': 'fit'}, 'thumb': {'w': 150, 'h': 150, 'resize': 'crop'}, 'medium': {'w': 1200, 'h': 900, 'resize': 'fit'}, 'large': {'w': 2048, 'h': 1536, 'resize': 'fit'}}, 'ext_alt_text': None}, {'id': 1377410265050980357, 'id_str': '1377410265050980357', 'indices': [283, 306], 'media_url': 'http://pbs.twimg.com/media/Ex2LVpZXIAUYrjv.jpg', 'media_url_https': 'https://pbs.twimg.com/media/Ex2LVpZXIAUYrjv.jpg', 'url': 'https://t.co/AkvDJrRWQ2', 'display_url': 'pic.twitter.com/AkvDJrRWQ2', 'expanded_url': 'https://twitter.com/CapMetroCEO/status/1377410280150470657/photo/1', 'type': 'photo', 'sizes': {'thumb': {'w': 150, 'h': 150, 'resize': 'crop'}, 'medium': {'w': 900, 'h': 1200, 'resize': 'fit'}, 'large': {'w': 1536, 'h': 2048, 'resize': 'fit'}, 'small': {'w': 510, 'h': 680, 'resize': 'fit'}}, 'ext_alt_text': None}]}, 'source': '<a href=\"http://twitter.com/download/iphone\" rel=\"nofollow\">Twitter for iPhone</a>', 'in_reply_to_status_id': None, 'in_reply_to_status_id_str': None, 'in_reply_to_user_id': None, 'in_reply_to_user_id_str': None, 'in_reply_to_screen_name': None, 'user': {'id': 971158437571825665, 'id_str': '971158437571825665', 'name': 'Randy Clarke 😷', 'screen_name': 'CapMetroCEO', 'location': 'Austin, TX', 'description': 'Proudly leading the women and men of @capmetroatx & @ATP_org. Tweets on #publictransit 🚌🚊 & occasionally 🐶🌮🚴\\u200d♂️🍕🏂 (opinions my own)', 'url': 'https://t.co/2LhDVNPLwV', 'entities': {'url': {'urls': [{'url': 'https://t.co/2LhDVNPLwV', 'expanded_url': 'http://capmetro.org', 'display_url': 'capmetro.org', 'indices': [0, 23]}]}, 'description': {'urls': []}}, 'protected': False, 'followers_count': 2005, 'friends_count': 179, 'listed_count': 42, 'created_at': 'Tue Mar 06 22:59:49 +0000 2018', 'favourites_count': 2696, 'utc_offset': None, 'time_zone': None, 'geo_enabled': False, 'verified': False, 'statuses_count': 1867, 'lang': None, 'contributors_enabled': False, 'is_translator': False, 'is_translation_enabled': False, 'profile_background_color': 'F5F8FA', 'profile_background_image_url': None, 'profile_background_image_url_https': None, 'profile_background_tile': False, 'profile_image_url': 'http://pbs.twimg.com/profile_images/1365750313131597826/w_EVwQd5_normal.jpg', 'profile_image_url_https': 'https://pbs.twimg.com/profile_images/1365750313131597826/w_EVwQd5_normal.jpg', 'profile_banner_url': 'https://pbs.twimg.com/profile_banners/971158437571825665/1614455094', 'profile_image_extensions_alt_text': None, 'profile_banner_extensions_alt_text': None, 'profile_link_color': '1DA1F2', 'profile_sidebar_border_color': 'C0DEED', 'profile_sidebar_fill_color': 'DDEEF6', 'profile_text_color': '333333', 'profile_use_background_image': True, 'has_extended_profile': False, 'default_profile': True, 'default_profile_image': False, 'following': False, 'follow_request_sent': False, 'notifications': False, 'translator_type': 'none'}, 'geo': None, 'coordinates': None, 'place': None, 'contributors': None, 'is_quote_status': False, 'retweet_count': 0, 'favorite_count': 11, 'favorited': False, 'retweeted': False, 'possibly_sensitive': False, 'lang': 'en'}\n"
     ]
    }
   ],
   "source": [
    "c = 0\n",
    "import json\n",
    "import gzip\n",
    "with gzip.open('/data/jx4237data/DataForPIPP/austinCovid/2021/2021-03austinUserLocation.jsonl.gz', mode=\"rt\") as f:\n",
    "    for line in f:\n",
    "        tweet = json.loads(line)\n",
    "        c += 1\n",
    "print(c)\n",
    "print(tweet)"
   ]
  },
  {
   "cell_type": "code",
   "execution_count": 9,
   "metadata": {},
   "outputs": [],
   "source": [
    "import json\n",
    "import gzip\n",
    "from tqdm import tqdm\n",
    "from collections import Counter"
   ]
  },
  {
   "cell_type": "code",
   "execution_count": 18,
   "metadata": {},
   "outputs": [],
   "source": [
    "# Calculate the number of three types of situations per month: 1. identified by user self report location; 2. identified by tweet-level geo info 3. the intersection of the first two\n",
    "tweetcount = Counter()\n",
    "# Calculate the id of the tweet identified by tweet-level geo info\n",
    "geoByTweetSet = {}\n",
    "monthlist = [str(i) if i > 9 else '0'+str(i) for i in range(1,13)]\n",
    "yearlist = ['2020','2021','2022']\n",
    "Utypelist = ['Tweet','User']"
   ]
  },
  {
   "cell_type": "code",
   "execution_count": 19,
   "metadata": {},
   "outputs": [
    {
     "name": "stderr",
     "output_type": "stream",
     "text": [
      "100%|██████████| 12/12 [00:01<00:00,  6.05it/s]\n",
      "100%|██████████| 12/12 [00:01<00:00,  7.57it/s]\n",
      "100%|██████████| 12/12 [00:00<00:00, 24.52it/s]\n",
      "100%|██████████| 12/12 [02:17<00:00, 11.49s/it]\n",
      "100%|██████████| 12/12 [01:56<00:00,  9.72s/it]\n",
      "100%|██████████| 12/12 [00:46<00:00,  3.89s/it]\n"
     ]
    }
   ],
   "source": [
    "for Utype in Utypelist:\n",
    "    for year in yearlist:\n",
    "        for month in tqdm(monthlist):\n",
    "            if year+month == '202212':\n",
    "                continue\n",
    "            with gzip.open('/data/jx4237data/DataForPIPP/austinCovid/%s/%s-%saustin%sLocation.jsonl.gz'%(year,year,month,Utype), mode=\"rt\") as f:\n",
    "                if Utype == 'Tweet':\n",
    "                    geoByTweetSet[year+month] = set()\n",
    "                for line in f:\n",
    "                    tweet = json.loads(line)\n",
    "                    tweetcount[Utype+year+month] += 1\n",
    "                    if Utype == 'Tweet':\n",
    "                        geoByTweetSet[year+month].add(tweet[\"id_str\"])\n",
    "                    if Utype == 'User':\n",
    "                        # Indicates that this tweet is recognized by both tweet-level and user level\n",
    "                        if tweet[\"id_str\"] in geoByTweetSet[year+month]:\n",
    "                            tweetcount['Intersection'+year+month] += 1"
   ]
  },
  {
   "cell_type": "code",
   "execution_count": 23,
   "metadata": {},
   "outputs": [
    {
     "name": "stdout",
     "output_type": "stream",
     "text": [
      "月份（共35个月） 奥斯汀推文数量（用户主页识别） 奥斯汀推文数量（推文识别） 奥斯汀推文数量（交集）\n",
      "202001 10336 164 95\n",
      "\n",
      "202002 29537 972 830\n",
      "\n",
      "202003 53174 1026 759\n",
      "\n",
      "202004 33829 596 441\n",
      "\n",
      "202005 35366 634 441\n",
      "\n",
      "202006 177341 2772 1996\n",
      "\n",
      "202007 223492 3267 2358\n",
      "\n",
      "202008 170837 2543 1818\n",
      "\n",
      "202009 159127 2206 1523\n",
      "\n",
      "202010 198737 2842 1995\n",
      "\n",
      "202011 171299 3112 2210\n",
      "\n",
      "202012 164684 2957 2151\n",
      "\n",
      "202101 126388 2132 1522\n",
      "\n",
      "202102 119954 2091 1465\n",
      "\n",
      "202103 141635 2291 1700\n",
      "\n",
      "202104 78823 1154 865\n",
      "\n",
      "202105 77861 1231 844\n",
      "\n",
      "202106 55016 779 519\n",
      "\n",
      "202107 101766 1459 1071\n",
      "\n",
      "202108 190840 2677 1994\n",
      "\n",
      "202109 111455 1397 985\n",
      "\n",
      "202110 71250 922 643\n",
      "\n",
      "202111 65580 925 598\n",
      "\n",
      "202112 117626 1658 1174\n",
      "\n",
      "202201 124030 1157 853\n",
      "\n",
      "202202 62325 542 400\n",
      "\n",
      "202203 50535 779 565\n",
      "\n",
      "202204 45429 471 333\n",
      "\n",
      "202205 44672 500 354\n",
      "\n",
      "202206 35992 487 291\n",
      "\n",
      "202207 41970 541 362\n",
      "\n",
      "202208 34831 507 313\n",
      "\n",
      "202209 26128 356 227\n",
      "\n",
      "202210 25235 366 225\n",
      "\n",
      "202211 24286 320 202\n",
      "\n"
     ]
    }
   ],
   "source": [
    "print('Month (total of 35 months)', 'Number of Austin tweets (user homepage identification)', 'Austin tweet number (Tweet identification)', 'Austin tweet number (intersection)')\n",
    "for year in yearlist:\n",
    "    for month in monthlist:\n",
    "        if year+month == '202212':\n",
    "            continue\n",
    "        print(year+month, tweetcount['User'+year+month], tweetcount['Tweet'+year+month], tweetcount['Intersection'+year+month])\n",
    "        print()"
   ]
  }
 ],
 "metadata": {
  "kernelspec": {
   "display_name": "base",
   "language": "python",
   "name": "python3"
  },
  "language_info": {
   "codemirror_mode": {
    "name": "ipython",
    "version": 3
   },
   "file_extension": ".py",
   "mimetype": "text/x-python",
   "name": "python",
   "nbconvert_exporter": "python",
   "pygments_lexer": "ipython3",
   "version": "3.8.3"
  },
  "orig_nbformat": 4
 },
 "nbformat": 4,
 "nbformat_minor": 2
}
